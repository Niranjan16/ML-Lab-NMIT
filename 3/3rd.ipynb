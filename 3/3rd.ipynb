{
  "nbformat": 4,
  "nbformat_minor": 0,
  "metadata": {
    "colab": {
      "name": "Untitled2.ipynb",
      "provenance": []
    },
    "kernelspec": {
      "name": "python3",
      "display_name": "Python 3"
    }
  },
  "cells": [
    {
      "cell_type": "code",
      "metadata": {
        "colab": {
          "base_uri": "https://localhost:8080/",
          "height": 282
        },
        "id": "IGd9Aa_AtgfU",
        "outputId": "58f7d24f-77b9-4550-e726-0da242035eb6"
      },
      "source": [
        "import numpy as np\r\n",
        "import matplotlib.pyplot as plt\r\n",
        "import pandas as pd\r\n",
        "\r\n",
        "data=pd.read_csv(\"/content/kmeans.csv\")\r\n",
        "darray=data.to_numpy()\r\n",
        "data\r\n",
        "\r\n",
        "plt.scatter(data.X1,data.X2)\r\n",
        "\r\n",
        "from sklearn.cluster import KMeans\r\n",
        "kmeans=KMeans(n_clusters=3)\r\n",
        "kmeans.fit(data)\r\n",
        "clusters=kmeans.cluster_centers_\r\n",
        "clusters\r\n",
        "y=kmeans.fit_predict(data)\r\n",
        "\r\n",
        "y\r\n",
        "\r\n",
        "count=0\r\n",
        "for i in y:\r\n",
        "    if i==0:\r\n",
        "        plt.scatter(darray[count][0],darray[count][1],s=100,color=\"green\")\r\n",
        "    elif i==1:\r\n",
        "        plt.scatter(darray[count][0],darray[count][1],s=100,color=\"blue\")\r\n",
        "    else:\r\n",
        "        plt.scatter(darray[count][0],darray[count][1],s=100,color=\"red\")\r\n",
        "    count += 1\r\n",
        "    \r\n",
        "plt.scatter(clusters[0][0],clusters[0][1],s=100,color=\"black\",marker=\"*\")\r\n",
        "plt.scatter(clusters[1][0],clusters[1][1],s=100,color=\"black\",marker=\"*\")\r\n",
        "plt.scatter(clusters[2][0],clusters[2][1],s=100,color=\"black\",marker=\"*\")\r\n",
        "\r\n"
      ],
      "execution_count": 1,
      "outputs": [
        {
          "output_type": "execute_result",
          "data": {
            "text/plain": [
              "<matplotlib.collections.PathCollection at 0x7f1a80128cf8>"
            ]
          },
          "metadata": {
            "tags": []
          },
          "execution_count": 1
        },
        {
          "output_type": "display_data",
          "data": {
            "image/png": "[encoded data removed]",
            "text/plain": [
              "<Figure size 432x288 with 1 Axes>"
            ]
          },
          "metadata": {
            "tags": [],
            "needs_background": "light"
          }
        }
      ]
    }
  ]
}