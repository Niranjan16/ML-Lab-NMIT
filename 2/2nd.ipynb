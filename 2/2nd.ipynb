{
  "nbformat": 4,
  "nbformat_minor": 0,
  "metadata": {
    "colab": {
      "name": "Untitled1.ipynb",
      "provenance": []
    },
    "kernelspec": {
      "name": "python3",
      "display_name": "Python 3"
    }
  },
  "cells": [
    {
      "cell_type": "code",
      "metadata": {
        "colab": {
          "base_uri": "https://localhost:8080/"
        },
        "id": "BhT-AdCDr6Fe",
        "outputId": "7461d49b-a05d-455d-9562-8e759a4bddcf"
      },
      "source": [
        "import csv\r\n",
        "\r\n",
        "with open(\"/content/Enjoy-sport.csv\") as f:\r\n",
        "    csv_file=csv.reader(f)\r\n",
        "    data=list(csv_file)\r\n",
        "    \r\n",
        "    s=data[1][:-1]\r\n",
        "    g=[['?' for i in range(len(s))] for j in range(len(s))]\r\n",
        "    \r\n",
        "    for i in data:\r\n",
        "        if i[-1]==\"Yes\":\r\n",
        "            for j in range(len(s)):\r\n",
        "                if i[j]!=s[j]:\r\n",
        "                    s[j]='?'\r\n",
        "                    g[j][j]='?'\r\n",
        "        \r\n",
        "        elif i[-1]==\"No\":\r\n",
        "            for j in range(len(s)):\r\n",
        "                if i[j]!=s[j]:\r\n",
        "                    g[j][j]=s[j]\r\n",
        "                else:\r\n",
        "                    g[j][j]=\"?\"\r\n",
        "        print(\"\\nSteps of Candidate Elimination Algorithm\",data.index(i)+1)\r\n",
        "        print(s)\r\n",
        "        print(g)\r\n",
        "    gh=[]\r\n",
        "    for i in g:\r\n",
        "        for j in i:\r\n",
        "            if j!='?':\r\n",
        "                gh.append(i)\r\n",
        "                break\r\n",
        "    print(\"\\nFinal specific hypothesis:\\n\",s)\r\n",
        "\r\n",
        "    print(\"\\nFinal general hypothesis:\\n\",gh)\r\n"
      ],
      "execution_count": 1,
      "outputs": [
        {
          "output_type": "stream",
          "text": [
            "\n",
            "Steps of Candidate Elimination Algorithm 1\n",
            "['sunny', 'warm', 'normal', 'strong', 'warm', 'same']\n",
            "[['?', '?', '?', '?', '?', '?'], ['?', '?', '?', '?', '?', '?'], ['?', '?', '?', '?', '?', '?'], ['?', '?', '?', '?', '?', '?'], ['?', '?', '?', '?', '?', '?'], ['?', '?', '?', '?', '?', '?']]\n",
            "\n",
            "Steps of Candidate Elimination Algorithm 2\n",
            "['sunny', 'warm', 'normal', 'strong', 'warm', 'same']\n",
            "[['?', '?', '?', '?', '?', '?'], ['?', '?', '?', '?', '?', '?'], ['?', '?', '?', '?', '?', '?'], ['?', '?', '?', '?', '?', '?'], ['?', '?', '?', '?', '?', '?'], ['?', '?', '?', '?', '?', '?']]\n",
            "\n",
            "Steps of Candidate Elimination Algorithm 3\n",
            "['sunny', 'warm', 'normal', 'strong', 'warm', 'same']\n",
            "[['?', '?', '?', '?', '?', '?'], ['?', '?', '?', '?', '?', '?'], ['?', '?', '?', '?', '?', '?'], ['?', '?', '?', '?', '?', '?'], ['?', '?', '?', '?', '?', '?'], ['?', '?', '?', '?', '?', '?']]\n",
            "\n",
            "Steps of Candidate Elimination Algorithm 4\n",
            "['sunny', 'warm', 'normal', 'strong', 'warm', 'same']\n",
            "[['?', '?', '?', '?', '?', '?'], ['?', '?', '?', '?', '?', '?'], ['?', '?', '?', '?', '?', '?'], ['?', '?', '?', '?', '?', '?'], ['?', '?', '?', '?', '?', '?'], ['?', '?', '?', '?', '?', '?']]\n",
            "\n",
            "Steps of Candidate Elimination Algorithm 5\n",
            "['sunny', 'warm', 'normal', 'strong', 'warm', 'same']\n",
            "[['?', '?', '?', '?', '?', '?'], ['?', '?', '?', '?', '?', '?'], ['?', '?', '?', '?', '?', '?'], ['?', '?', '?', '?', '?', '?'], ['?', '?', '?', '?', '?', '?'], ['?', '?', '?', '?', '?', '?']]\n",
            "\n",
            "Final specific hypothesis:\n",
            " ['sunny', 'warm', 'normal', 'strong', 'warm', 'same']\n",
            "\n",
            "Final general hypothesis:\n",
            " []\n"
          ],
          "name": "stdout"
        }
      ]
    }
  ]
}