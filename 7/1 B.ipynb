{
  "nbformat": 4,
  "nbformat_minor": 0,
  "metadata": {
    "colab": {
      "name": "Untitled5.ipynb",
      "provenance": []
    },
    "kernelspec": {
      "name": "python3",
      "display_name": "Python 3"
    }
  },
  "cells": [
    {
      "cell_type": "code",
      "metadata": {
        "id": "6JFoZW1bvQ2_"
      },
      "source": [
        "import math \r\n",
        "import random \r\n",
        "import csv \r\n",
        "\r\n",
        "def encode_class(mydata): \r\n",
        "\tclasses = [] \r\n",
        "\tfor i in range(len(mydata)): \r\n",
        "\t\tif mydata[i][-1] not in classes: \r\n",
        "\t\t\tclasses.append(mydata[i][-1]) \r\n",
        "\tfor i in range(len(classes)): \r\n",
        "\t\tfor j in range(len(mydata)): \r\n",
        "\t\t\tif mydata[j][-1] == classes[i]: \r\n",
        "\t\t\t\tmydata[j][-1] = i \r\n",
        "\treturn mydata\t"
      ],
      "execution_count": 2,
      "outputs": []
    },
    {
      "cell_type": "code",
      "metadata": {
        "id": "VVMSPHSWvVNA"
      },
      "source": [
        "def splitting(mydata, ratio): \r\n",
        "\ttrain_num = int(len(mydata) * ratio) \r\n",
        "\ttrain = [] \r\n",
        "\ttest = list(mydata) \r\n",
        "\twhile len(train) < train_num: \r\n",
        "\t\t\r\n",
        "\t\tindex = random.randrange(len(test)) \r\n",
        "\t\t\r\n",
        "\t\ttrain.append(test.pop(index)) \r\n",
        "\treturn train, test \r\n",
        "\r\n",
        "def groupUnderClass(mydata): \r\n",
        "\tdict = {} \r\n",
        "\tfor i in range(len(mydata)): \r\n",
        "\t\tif (mydata[i][-1] not in dict): \r\n",
        "\t\t\tdict[mydata[i][-1]] = [] \r\n",
        "\t\tdict[mydata[i][-1]].append(mydata[i]) \r\n",
        "\treturn dict\r\n",
        "\r\n"
      ],
      "execution_count": 3,
      "outputs": []
    },
    {
      "cell_type": "code",
      "metadata": {
        "colab": {
          "base_uri": "https://localhost:8080/"
        },
        "id": "CMbcWa12vWmt",
        "outputId": "99b82251-b39f-4bee-e26c-91f05c7956e7"
      },
      "source": [
        "# Calculating Mean \r\n",
        "def mean(numbers): \r\n",
        "\treturn sum(numbers) / float(len(numbers)) \r\n",
        "\r\n",
        "# Calculating Standard Deviation \r\n",
        "def std_dev(numbers): \r\n",
        "\tavg = mean(numbers) \r\n",
        "\tvariance = sum([pow(x - avg, 2) for x in numbers]) / float(len(numbers) - 1) \r\n",
        "\treturn math.sqrt(variance) \r\n",
        "\r\n",
        "def MeanAndStdDev(mydata): \r\n",
        "\tinfo = [(mean(attribute), std_dev(attribute)) for attribute in zip(*mydata)] \r\n",
        "\tdel info[-1] \r\n",
        "\treturn info \r\n",
        "\r\n",
        "# find Mean and Standard Deviation under each class \r\n",
        "def MeanAndStdDevForClass(mydata): \r\n",
        "\tinfo = {} \r\n",
        "\tdict = groupUnderClass(mydata) \r\n",
        "\tfor classValue, instances in dict.items(): \r\n",
        "\t\tinfo[classValue] = MeanAndStdDev(instances) \r\n",
        "\treturn info \r\n",
        "\r\n",
        "\r\n",
        "# Calculate Gaussian Probability Density Function \r\n",
        "def calculateGaussianProbability(x, mean, stdev): \r\n",
        "\texpo = math.exp(-(math.pow(x - mean, 2) / (2 * math.pow(stdev, 2)))) \r\n",
        "\treturn (1 / (math.sqrt(2 * math.pi) * stdev)) * expo \r\n",
        "\r\n",
        "\r\n",
        "# Calculate Class Probabilities \r\n",
        "def calculateClassProbabilities(info, test): \r\n",
        "\tprobabilities = {} \r\n",
        "\tfor classValue, classSummaries in info.items(): \r\n",
        "\t\tprobabilities[classValue] = 1\r\n",
        "\t\tfor i in range(len(classSummaries)): \r\n",
        "\t\t\tmean, std_dev = classSummaries[i] \r\n",
        "\t\t\tx = test[i] \r\n",
        "\t\t\tprobabilities[classValue] *= calculateGaussianProbability(x, mean, std_dev) \r\n",
        "\treturn probabilities \r\n",
        "\r\n",
        "\r\n",
        "\r\n",
        "def predict(info, test): \r\n",
        "\tprobabilities = calculateClassProbabilities(info, test) \r\n",
        "\tbestLabel, bestProb = None, -1\r\n",
        "\tfor classValue, probability in probabilities.items(): \r\n",
        "\t\tif bestLabel is None or probability > bestProb: \r\n",
        "\t\t\tbestProb = probability \r\n",
        "\t\t\tbestLabel = classValue \r\n",
        "\treturn bestLabel \r\n",
        "\r\n",
        "\r\n",
        "# returns predictions for a set of examples \r\n",
        "def getPredictions(info, test): \r\n",
        "\tpredictions = [] \r\n",
        "\tfor i in range(len(test)): \r\n",
        "\t\tresult = predict(info, test[i]) \r\n",
        "\t\tpredictions.append(result) \r\n",
        "\treturn predictions \r\n",
        "\r\n",
        "# Accuracy score \r\n",
        "def accuracy_rate(test, predictions): \r\n",
        "\tcorrect = 0\r\n",
        "\tfor i in range(len(test)): \r\n",
        "\t\tif test[i][-1] == predictions[i]: \r\n",
        "\t\t\tcorrect += 1\r\n",
        "\treturn (correct / float(len(test))) * 100.0\r\n",
        "\r\n",
        "\r\n",
        "# driver code \r\n",
        "filename = r'/content/data.csv - data.csv.csv'\r\n",
        "# load the file and store it in mydata list \r\n",
        "mydata = csv.reader(open(filename, \"rt\")) \r\n",
        "mydata = list(mydata) \r\n",
        "mydata = encode_class(mydata) \r\n",
        "for i in range(len(mydata)): \r\n",
        "\tmydata[i] = [float(x) for x in mydata[i]] \r\n",
        "\r\n",
        "\t\r\n",
        "# split ratio = 0.7 \r\n",
        "# 70% of data is training data and 30% is test data used for testing \r\n",
        "ratio = 0.7\r\n",
        "train_data, test_data = splitting(mydata, ratio) \r\n",
        "print('Total number of examples are: ', len(mydata)) \r\n",
        "print('Out of these, training examples are: ', len(train_data)) \r\n",
        "print(\"Test examples are: \", len(test_data)) \r\n",
        "# prepare model \r\n",
        "info = MeanAndStdDevForClass(train_data) \r\n",
        "\r\n",
        "# test model \r\n",
        "predictions = getPredictions(info, test_data) \r\n",
        "accuracy = accuracy_rate(test_data, predictions) \r\n",
        "print(\"Accuracy of your model is: \", accuracy)\r\n",
        "\r\n"
      ],
      "execution_count": 4,
      "outputs": [
        {
          "output_type": "stream",
          "text": [
            "Total number of examples are:  871\n",
            "Out of these, training examples are:  609\n",
            "Test examples are:  262\n",
            "Accuracy of your model is:  77.09923664122137\n"
          ],
          "name": "stdout"
        }
      ]
    }
  ]
}