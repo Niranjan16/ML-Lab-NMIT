{
  "nbformat": 4,
  "nbformat_minor": 0,
  "metadata": {
    "colab": {
      "name": "Untitled8.ipynb",
      "provenance": []
    },
    "kernelspec": {
      "name": "python3",
      "display_name": "Python 3"
    }
  },
  "cells": [
    {
      "cell_type": "code",
      "metadata": {
        "id": "RMSh6fTvQrrk",
        "outputId": "b2cad5f6-b16b-4e90-ef4e-492dc97b8a8e",
        "colab": {
          "base_uri": "https://localhost:8080/"
        }
      },
      "source": [
        "import csv\r\n",
        "import numpy as np\r\n",
        "\r\n",
        "data=[['Sunny','Warm','Normal','Strong','Warm','Same','Yes'],\r\n",
        "  ['Sunny','Warm','High','Strong','Warm','Same','Yes'],\r\n",
        "   ['Sunny','Warm','Normal','Strong','Warm','Same','No'],\r\n",
        "   ['Sunny','Warm','High','Strong','Cool','Change','Yes']]\r\n",
        "print(data)\r\n",
        "\r\n",
        "d = np.array(data)\r\n",
        "print(\"The attributes are: \",d)\r\n",
        "\r\n",
        "\r\n",
        "h = ['0', '0', '0', '0', '0', '0']\r\n",
        "\r\n",
        "for row in data:\r\n",
        "    if row[-1] == 'Yes':\r\n",
        "        j = 0\r\n",
        "        \r\n",
        "        for col in row:\r\n",
        "            if col != 'Yes':\r\n",
        "                if col != h[j] and h[j] == '0':\r\n",
        "                    h[j] = col\r\n",
        "                elif col != h[j] and h[j] != '0':\r\n",
        "                    h[j] = '?'\r\n",
        "                    \r\n",
        "            j = j + 1\r\n",
        "print('Maximally Specific Hypothesis: ', h)"
      ],
      "execution_count": 1,
      "outputs": [
        {
          "output_type": "stream",
          "text": [
            "[['Sunny', 'Warm', 'Normal', 'Strong', 'Warm', 'Same', 'Yes'], ['Sunny', 'Warm', 'High', 'Strong', 'Warm', 'Same', 'Yes'], ['Sunny', 'Warm', 'Normal', 'Strong', 'Warm', 'Same', 'No'], ['Sunny', 'Warm', 'High', 'Strong', 'Cool', 'Change', 'Yes']]\n",
            "The attributes are:  [['Sunny' 'Warm' 'Normal' 'Strong' 'Warm' 'Same' 'Yes']\n",
            " ['Sunny' 'Warm' 'High' 'Strong' 'Warm' 'Same' 'Yes']\n",
            " ['Sunny' 'Warm' 'Normal' 'Strong' 'Warm' 'Same' 'No']\n",
            " ['Sunny' 'Warm' 'High' 'Strong' 'Cool' 'Change' 'Yes']]\n",
            "Maximally Specific Hypothesis:  ['Sunny', 'Warm', '?', 'Strong', '?', '?']\n"
          ],
          "name": "stdout"
        }
      ]
    }
  ]
}